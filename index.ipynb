{
 "cells": [
  {
   "cell_type": "markdown",
   "metadata": {},
   "source": [
    "# Testing C++ Functionality\n",
    "------------------------------------------"
   ]
  },
  {
   "cell_type": "markdown",
   "metadata": {},
   "source": [
    "## Add Header Files\n",
    "-----------------------------------"
   ]
  },
  {
   "cell_type": "code",
   "execution_count": 1,
   "metadata": {},
   "outputs": [],
   "source": [
    "#include <iostream>\n",
    "#include <fstream> \n",
    "#include <string>\n",
    "#include <vector>\n",
    "#include <algorithm>"
   ]
  },
  {
   "cell_type": "markdown",
   "metadata": {},
   "source": [
    "## Open input.txt and put into vector of strings\n",
    "-------------------------"
   ]
  },
  {
   "cell_type": "code",
   "execution_count": 2,
   "metadata": {},
   "outputs": [],
   "source": [
    "std::ifstream in(\"input.txt\");\n",
    "\n",
    "std::string s;\n",
    "std::vector<std::string> vec;\n",
    "\n",
    "while (std::getline(in, s))\n",
    "{\n",
    "    if(s.size() > 0)\n",
    "        vec.push_back(s);\n",
    "}\n",
    "\n",
    "in.close();"
   ]
  },
  {
   "cell_type": "markdown",
   "metadata": {},
   "source": [
    "## Print Vector\n",
    "-----------------------"
   ]
  },
  {
   "cell_type": "code",
   "execution_count": 3,
   "metadata": {},
   "outputs": [
    {
     "name": "stdout",
     "output_type": "stream",
     "text": [
      "5 5\n",
      "#####\n",
      "#@  #\n",
      "#   #\n",
      "#  $#\n",
      "#####\n"
     ]
    }
   ],
   "source": [
    "for(auto i : vec)\n",
    "{\n",
    "std::cout<<i<<std::endl;\n",
    "}"
   ]
  },
  {
   "cell_type": "markdown",
   "metadata": {},
   "source": [
    "## Open input.txt and redirect to cin\n",
    "------------------"
   ]
  },
  {
   "cell_type": "code",
   "execution_count": 4,
   "metadata": {},
   "outputs": [
    {
     "name": "stdout",
     "output_type": "stream",
     "text": [
      "5 5\n",
      "#####\n",
      "#@  #\n",
      "#   #\n",
      "#  $#\n",
      "#####\n"
     ]
    }
   ],
   "source": [
    "std::ifstream input(\"input.txt\");\n",
    "std::streambuf *cinbuf = std::cin.rdbuf(); //save old buf\n",
    "std::cin.rdbuf(input.rdbuf()); //redirect std::cin to input.txt\n",
    "\n",
    "std::string line;\n",
    "while(std::getline(std::cin, line))  //input from the file in.txt\n",
    "{\n",
    "    std::cout << line << \"\\n\";   //output to the file out.txt\n",
    "}"
   ]
  },
  {
   "cell_type": "markdown",
   "metadata": {},
   "source": [
    "## Output \n",
    "-------------------"
   ]
  },
  {
   "cell_type": "code",
   "execution_count": null,
   "metadata": {},
   "outputs": [],
   "source": []
  }
 ],
 "metadata": {
  "kernelspec": {
   "display_name": "C++17",
   "language": "C++17",
   "name": "xcpp17"
  },
  "language_info": {
   "codemirror_mode": "text/x-c++src",
   "file_extension": ".cpp",
   "mimetype": "text/x-c++src",
   "name": "c++",
   "version": "-std=c++17"
  }
 },
 "nbformat": 4,
 "nbformat_minor": 2
}
